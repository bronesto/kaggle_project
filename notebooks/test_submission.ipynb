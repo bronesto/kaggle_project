{
 "cells": [
  {
   "cell_type": "code",
   "execution_count": null,
   "metadata": {},
   "outputs": [],
   "source": [
    "from exp.features import create_train_features, create_test_features\n",
    "from exp.run import run_experiment\n",
    "from exp.mappings import alg_map\n",
    "from exp.train import train_model\n",
    "import pandas as pd\n",
    "import json\n",
    "import numpy as np\n",
    "import os\n",
    "import pickle"
   ]
  },
  {
   "cell_type": "markdown",
   "metadata": {},
   "source": [
    "### Create Training Features"
   ]
  },
  {
   "cell_type": "code",
   "execution_count": null,
   "metadata": {
    "scrolled": true
   },
   "outputs": [],
   "source": [
    "X_save = \"X_tr.csv\"\n",
    "y_save = \"y_tr.csv\"\n",
    "X_save_scaled = \"X_tr_scaled.csv\"\n",
    "scale_params_pickle = \"scale_params.pickle\"\n",
    "other_params_json = \"other.json\"\n",
    "tr_scaler = None\n",
    "classic_sta_lta5_mean_fill = None\n",
    "classic_sta_lta7_mean_fill = None\n",
    "\n",
    "if not (os.path.exists(X_save_scaled) and os.path.exists(y_save)):\n",
    "    if os.path.exists(X_save) and os.path.exists(y_save):\n",
    "        X_tr = pd.read_csv(X_save, index_col=0)\n",
    "        y_tr = pd.read_csv(y_save, index_col=0)\n",
    "\n",
    "        scale_params_pickle_on = open(scale_params_pickle, \"rb\")\n",
    "        tr_scaler = pickle.load(scale_params_pickle_on)\n",
    "        scale_params_pickle_on.close()\n",
    "        \n",
    "        X_train_scaled = pd.DataFrame(tr_scaler.transform(X_tr), columns=X_tr.columns)\n",
    "        X_train_scaled.to_csv(X_save_scaled)\n",
    "    else:\n",
    "        X_tr, X_train_scaled, y_tr, tr_scaler, classic_sta_lta5_mean_fill, classic_sta_lta7_mean_fill  = create_train_features(r'C:\\Users\\arvin\\dev\\lanl\\train.csv')\n",
    "        X_tr.to_csv(X_save)\n",
    "        y_tr.to_csv(y_save)\n",
    "        X_train_scaled.to_csv(X_save_scaled)\n",
    "\n",
    "        scale_params_pickle_on = open(scale_params_pickle, \"wb\")\n",
    "        pickle.dump(tr_scaler, scale_params_pickle_on)\n",
    "        scale_params_pickle_on.close()\n",
    "\n",
    "        with open(other_params_json, 'w') as fp:\n",
    "            json.dump({\"classic_sta_lta5_mean_fill\": classic_sta_lta5_mean_fill,\n",
    "                       \"classic_sta_lta7_mean_fill\": classic_sta_lta7_mean_fill}, fp)\n",
    "else:\n",
    "    X_train_scaled = pd.read_csv(X_save_scaled, index_col=0)\n",
    "    y_tr = pd.read_csv(y_save, index_col=0)"
   ]
  },
  {
   "cell_type": "markdown",
   "metadata": {},
   "source": [
    "### Create Test Features"
   ]
  },
  {
   "cell_type": "code",
   "execution_count": null,
   "metadata": {},
   "outputs": [],
   "source": [
    "X_test_save = \"X_test.csv\"\n",
    "X_test_save_scaled = \"X_test_scaled.csv\"\n",
    "if not os.path.exists(X_test_save_scaled):\n",
    "    scale_params_pickle_on = open(scale_params_pickle, \"rb\")\n",
    "    scaler = pickle.load(scale_params_pickle_on)\n",
    "    scale_params_pickle_on.close()\n",
    "    with open(other_params_json) as fp:  \n",
    "        other_params = json.load(fp)\n",
    "    X_test, X_test_scaled = create_test_features(scaler=scaler, **other_params)\n",
    "    X_test.to_csv(X_test_save)\n",
    "    X_test_scaled.to_csv(X_test_save_scaled)\n",
    "else:\n",
    "    X_test_scaled = pd.read_csv(X_test_save_scaled, index_col=0)"
   ]
  },
  {
   "cell_type": "markdown",
   "metadata": {},
   "source": [
    "### Load results from CSV File and re-produce models ranked by CV scores"
   ]
  },
  {
   "cell_type": "code",
   "execution_count": null,
   "metadata": {},
   "outputs": [],
   "source": [
    "save_results= \"exp2.csv\"\n",
    "score_df = pd.read_csv(save_results)\n",
    "score_df = score_df.sort_values(by=\"score\", axis=0)"
   ]
  },
  {
   "cell_type": "code",
   "execution_count": null,
   "metadata": {},
   "outputs": [],
   "source": [
    "display(score_df)"
   ]
  },
  {
   "cell_type": "markdown",
   "metadata": {},
   "source": [
    "### Load best model from CSV File"
   ]
  },
  {
   "cell_type": "code",
   "execution_count": null,
   "metadata": {},
   "outputs": [],
   "source": [
    "# retrieve top scoring row\n",
    "best = score_df.iloc[1]\n",
    "display(best)\n",
    "\n",
    "# retrieve model parameters from pandas row\n",
    "alg = best[\"alg\"]\n",
    "params_json = best[\"params_json\"]\n",
    "print(\"alg: {}\".format(alg))\n",
    "print(\"params_json: {}\".format(params_json))\n",
    "\n",
    "# retrieve relevant values\n",
    "alg_cls = alg_map[alg]\n",
    "params = json.loads(params_json)\n",
    "\n",
    "# initialize model\n",
    "model = alg_cls(**params)\n",
    "\n",
    "# train algorithm\n",
    "#n_fold=10\n",
    "#train_model(X=X_tr, Y=y_tr, n_fold=n_fold, model=model)\n",
    "model, preds = train_model(X=X_train_scaled, Y=y_tr, X_test=X_test_scaled, n_fold=None, model=model)"
   ]
  },
  {
   "cell_type": "code",
   "execution_count": null,
   "metadata": {},
   "outputs": [],
   "source": [
    "submission = pd.read_csv(r'C:\\Users\\arvin\\dev\\lanl\\sample_submission.csv', index_col='seg_id')\n",
    "submission['time_to_failure'] = preds\n",
    "print(submission.head())\n",
    "submission.to_csv('submission.csv')"
   ]
  }
 ],
 "metadata": {
  "kernelspec": {
   "display_name": "Python 3",
   "language": "python",
   "name": "python3"
  },
  "language_info": {
   "codemirror_mode": {
    "name": "ipython",
    "version": 3
   },
   "file_extension": ".py",
   "mimetype": "text/x-python",
   "name": "python",
   "nbconvert_exporter": "python",
   "pygments_lexer": "ipython3",
   "version": "3.6.8"
  }
 },
 "nbformat": 4,
 "nbformat_minor": 2
}
